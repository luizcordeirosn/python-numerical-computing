{
 "cells": [
  {
   "cell_type": "code",
   "execution_count": 1,
   "id": "7ed79ef6-b008-4ee3-a814-bf6b8f7ca291",
   "metadata": {},
   "outputs": [],
   "source": [
    "import math\n",
    "import numpy as np"
   ]
  },
  {
   "cell_type": "code",
   "execution_count": 2,
   "id": "14981886-5f8d-4240-b4e0-8a5016c3f63c",
   "metadata": {},
   "outputs": [],
   "source": [
    "# Competição futurística \n",
    "def funcao(x):\n",
    "    return (pow(x,3) - (5 * pow(x,2)) + (4 * x))\n",
    "\n",
    "def derivada(x):\n",
    "    return ((3 * pow(x,2) - (10 * x) + 4))\n",
    "\n",
    "def raizFuncao(valorInicial):\n",
    "    index = 0\n",
    "    \n",
    "    while True:\n",
    "        valorAtual = valorInicial - (funcao(valorInicial)/derivada(valorInicial))\n",
    "        index+=1\n",
    "\n",
    "        if abs(valorAtual - valorInicial) <= 0.0001:\n",
    "            break\n",
    "\n",
    "        valorInicial = valorAtual\n",
    "        \n",
    "\n",
    "    print(f'A raiz encontrada é: {valorAtual:.1f} Número de iterações realizadas: {index}')\n",
    "        "
   ]
  },
  {
   "cell_type": "code",
   "execution_count": 3,
   "id": "0ee08aca-31be-4020-88fd-0eaedee23b9d",
   "metadata": {},
   "outputs": [],
   "source": [
    "# entrada = int(input())\n",
    "\n",
    "# raizFuncao(entrada)"
   ]
  },
  {
   "cell_type": "code",
   "execution_count": 4,
   "id": "fe5e2420-0610-4d1c-a56f-0beafcdeb1c3",
   "metadata": {},
   "outputs": [],
   "source": [
    "# Destravando o Mjolnir\n",
    "def funcao(x):\n",
    "    return math.log(x) - (x / 3)\n",
    "\n",
    "def metodoSecante(valor, valorAnterior):\n",
    "    return valor - ((funcao(valor) * (valor - valorAnterior))/(funcao(valor) - funcao(valorAnterior)))\n",
    "\n",
    "def raizFuncao(valor, valorAnterior):\n",
    "    index = 0\n",
    "\n",
    "    while index < 100:\n",
    "        proximoValor = metodoSecante(valor, valorAnterior)\n",
    "\n",
    "        if abs(proximoValor - valor) <= 0.00001:\n",
    "            break\n",
    "\n",
    "        valorAnterior = valor\n",
    "        valor = proximoValor\n",
    "        index+=1\n",
    "\n",
    "    print(f'A força que Thor encontrou foi de {round(proximoValor, 4)} após {index} tentativas')"
   ]
  },
  {
   "cell_type": "code",
   "execution_count": 5,
   "id": "6a84a878-d852-4ffe-9fd7-126e89dd3aa0",
   "metadata": {},
   "outputs": [
    {
     "name": "stdout",
     "output_type": "stream",
     "text": [
      "A força que Thor encontrou foi de 4.5364 após 7 tentativas\n",
      "A força que Thor encontrou foi de 4.5364 após 6 tentativas\n"
     ]
    }
   ],
   "source": [
    "raizFuncao(3,10)\n",
    "raizFuncao(2.95,3.90)"
   ]
  },
  {
   "cell_type": "code",
   "execution_count": 30,
   "id": "3dc5800d-f1d5-499d-b285-16d1b6923ee9",
   "metadata": {},
   "outputs": [],
   "source": [
    "# Ajudando Jhon a Verificar Sua Maquina\n",
    "def converterParaPontoFlutuante(notacaoCientifica):\n",
    "    numero, expoente = notacaoCientifica.split('e')\n",
    "    sinal = '-' if not expoente.startswith('+') else ''\n",
    "    \n",
    "    return 10, len(numero.rstrip('0').replace(\".\", \"\").strip()), int(expoente.replace('+', '').replace('-', '')), sinal\n",
    "                   \n",
    "def validarMaquina(base, mantissa, min, max, numero):\n",
    "    notacaoCientifica = f\"{numero:.5e}\"\n",
    "\n",
    "    base, mantissa, expoente, sinal = converterParaPontoFlutuante(notacaoCientifica)\n",
    "\n",
    "    if base == 10 and mantissa <= 3 and -3 <= expoente  and expoente <= 3:\n",
    "        print(f'O número {notacaoCientifica.split(\"e\")[0].rstrip(\"0\")} x {base}^{sinal}{expoente} faz parte desta máquina.')\n",
    "    elif base == 10 and -3 <= expoente  and expoente <= 3:\n",
    "        numeroFloat = round(float(notacaoCientifica.split('e')[0]), 2)\n",
    "        print(f'O número {numero} não faz parte desta máquina.')\n",
    "        print(f'Este número pode ser arredondado para {str(numeroFloat).rstrip(\"0\")} x {base}^{expoente} e representado na máquina.')"
   ]
  },
  {
   "cell_type": "code",
   "execution_count": 7,
   "id": "fccdbc09-b53b-4bff-a8e0-aa3efa4bfecc",
   "metadata": {},
   "outputs": [
    {
     "name": "stdout",
     "output_type": "stream",
     "text": [
      "O número 2.5 x 10^-2 faz parte desta máquina.\n",
      "O número 5.55 x 10^2 faz parte desta máquina.\n",
      "O número 5.32 x 10^1 faz parte desta máquina.\n"
     ]
    }
   ],
   "source": [
    "validarMaquina(10, 3, -3, 3, 00000.025)\n",
    "validarMaquina(10, 3, -3, 3, 00555.234)\n",
    "validarMaquina(10, 3, -3, 3, 53.2365)"
   ]
  },
  {
   "cell_type": "code",
   "execution_count": 8,
   "id": "34e2d26f-44bb-4de3-a26e-da22495400b3",
   "metadata": {},
   "outputs": [],
   "source": [
    "# Moacir e a Bisseção\n",
    "def funcao(a, b, c, x):\n",
    "    return (a * x * x) + (b * x) + c\n",
    "\n",
    "def metodoBissecao(a, b, c, valorInicial, valorFinal, raiz, tol=0.01):\n",
    "    if funcao(a, b, c, valorInicial) * funcao(a, b, c, valorFinal) >= 0:\n",
    "        print(\"Raiz não encontrada.\")\n",
    "        return None\n",
    "    \n",
    "    while (valorFinal - valorInicial) / 2 > tol:\n",
    "        m = (valorInicial + valorFinal) / 2\n",
    "            \n",
    "        if funcao(a, b, c, m) == 0:\n",
    "            break;\n",
    "        elif funcao(a, b, c, valorInicial) * funcao(a, b, c, m) < 0:\n",
    "            valorFinal = m\n",
    "        else:\n",
    "            valorInicial = m\n",
    "    \n",
    "    raizCalculada = (valorInicial + valorFinal) / 2\n",
    "    print(f'Raiz aproximada calculada pelo programa = {raizCalculada}')\n",
    "    \n",
    "    if abs(raizCalculada - raiz) <= tol:\n",
    "        print(\"Parabéns, Moacir! Sua resposta está correta!\")\n",
    "    else:\n",
    "        print(\"Poxa Moacir, sua resposta está incorreta! Tente novamente!\")\n",
    "        print(f'A diferença entre sua resposta e o valor calculado é de {abs(raizCalculada - raiz)}.')"
   ]
  },
  {
   "cell_type": "code",
   "execution_count": 9,
   "id": "7d006503-dacf-4d84-921a-e47d8f51afe5",
   "metadata": {},
   "outputs": [
    {
     "name": "stdout",
     "output_type": "stream",
     "text": [
      "Raiz aproximada calculada pelo programa = -0.798828125\n",
      "Parabéns, Moacir! Sua resposta está correta!\n",
      "Raiz não encontrada.\n",
      "Raiz aproximada calculada pelo programa = -1.0\n",
      "Poxa Moacir, sua resposta está incorreta! Tente novamente!\n",
      "A diferença entre sua resposta e o valor calculado é de 3.0.\n"
     ]
    }
   ],
   "source": [
    "metodoBissecao(1, -3, -3, -2, 3, -0.798828125)\n",
    "metodoBissecao(1, 1, 1, 0, 2, 1)\n",
    "metodoBissecao(1, -2, -3, -4, 2, 2)"
   ]
  },
  {
   "cell_type": "code",
   "execution_count": 31,
   "id": "822a823d-e3ff-4b2c-ad22-1877eb153736",
   "metadata": {},
   "outputs": [],
   "source": [
    "# Calibrando a Máquina de Jailson\n",
    "def floatParaBinario(num):\n",
    "    if num == 0.0:\n",
    "        return \"0\" * 32\n",
    "    binario = np.binary_repr(np.float32(num).view(np.int32), width=32)\n",
    "    return binario\n",
    "    \n",
    "def binarioParaFloat(mantissa, expoente):\n",
    "    mantissaDecimal = sum(int(bit) * (0.5 ** i) for i, bit in enumerate(mantissa.split('.')[1], start=1))\n",
    "    mantissaDecimal += int(mantissa.split('.')[0])\n",
    "    return mantissaDecimal * (2 ** expoente)\n",
    "\n",
    "def valorMin(b, t, l):\n",
    "    valorMinStr = \"1.\"\n",
    "    for i in range(t - 1):\n",
    "        valorMinStr += \"0\"\n",
    "    return valorMinStr\n",
    "\n",
    "def valorMax(b, t, u):\n",
    "    valorMaxStr = f'{(b - 1)}.'\n",
    "    for i in range(t - 1):\n",
    "        valorMaxStr += f'{(b - 1)}'\n",
    "    return valorMaxStr\n",
    "\n",
    "def calibrarMaquina(b, t, l, u):\n",
    "    valorMinimoSemExpStr = valorMin(b, t, l)\n",
    "    valorMaximoSemExpStr = valorMax(b, t, u)\n",
    "\n",
    "    valorMinimo = float(valorMinimoSemExpStr)*(b**l)\n",
    "    \n",
    "    if b == 2:\n",
    "        valorMaximo = binarioParaFloat(valorMaximoSemExpStr, u)\n",
    "    else: \n",
    "        valorMaximo = float(valorMaximoSemExpStr)*(b**u)\n",
    "\n",
    "    valorMinimoBin = floatParaBinario(valorMinimo)\n",
    "    valorMaximoBin = floatParaBinario(valorMaximo)\n",
    "\n",
    "    print(f\"Valor minimo representavel: {valorMinimoSemExpStr}x{b}e{l}\")\n",
    "    print(f\"Valor maximo representavel: {valorMaximoSemExpStr}x{b}e{u}\")\n",
    "    print(f\"Valor minimo em IEEE: {valorMinimoBin}\")\n",
    "    print(f\"Valor maximo IEEE: {valorMaximoBin}\")\n",
    "    print(\"\")\n",
    "\n",
    "    minRepresentavel = np.float32(np.finfo(np.float32).tiny)\n",
    "    maxRepresentavel = np.float32(np.finfo(np.float32).max)\n",
    "\n",
    "    if valorMinimo < minRepresentavel:\n",
    "        print(\"Underflow detectado, nao era esssa peca que ele queria.\")\n",
    "    else:\n",
    "        print(\"Nenhum underflow detectado, agora voce pode relaxar.\")\n",
    "    \n",
    "    if valorMaximo > maxRepresentavel:\n",
    "        print(\"Overflow detectado, nao era essa peca que ele queria.\")\n",
    "    else:\n",
    "        print(\"Nenhum overflow detectado, agora voce pode relaxar.\")"
   ]
  },
  {
   "cell_type": "code",
   "execution_count": 25,
   "id": "ef357037-71fc-4010-bde4-008f306fd0b9",
   "metadata": {},
   "outputs": [
    {
     "name": "stdout",
     "output_type": "stream",
     "text": [
      "Valor minimo representavel: 1.0000x2e-10\n",
      "Valor maximo representavel: 1.1111x2e10\n",
      "Valor minimo em IEEE: 00111010100000000000000000000000\n",
      "Valor maximo IEEE: 01000100111110000000000000000000\n",
      "\n",
      "Nenhum underflow detectado, agora voce pode relaxar.\n",
      "Nenhum underflow detectado, agora voce pode relaxar.\n",
      "Valor minimo representavel: 1.000000000x2e-200\n",
      "Valor maximo representavel: 1.111111111x2e200\n",
      "Valor minimo em IEEE: 00000000000000000000000000000000\n",
      "Valor maximo IEEE: 01111111100000000000000000000000\n",
      "\n",
      "Underflow detectado, nao era esssa peca que ele queria.\n",
      "Overflow detectado, nao era essa peca que ele queria.\n"
     ]
    },
    {
     "name": "stderr",
     "output_type": "stream",
     "text": [
      "C:\\Users\\luizc\\AppData\\Local\\Temp\\ipykernel_20804\\2257859472.py:4: RuntimeWarning: overflow encountered in cast\n",
      "  binario = np.binary_repr(np.float32(num).view(np.int32), width=32)\n"
     ]
    }
   ],
   "source": [
    "calibrarMaquina(2, 5, -10, 10)\n",
    "calibrarMaquina(2,10,-200,200)"
   ]
  },
  {
   "cell_type": "code",
   "execution_count": 12,
   "id": "9fecd5c6-ce04-4134-b28d-7fff42dfeae7",
   "metadata": {},
   "outputs": [],
   "source": [
    "# Jake Peralta e o Mistério da Matriz Positiva Definida\n",
    "def imprimirMatriz(matriz):\n",
    "    print(\"Matriz L:\")\n",
    "    for linha in matriz:\n",
    "        strLinha = [f\"{x}\" if x != 0 else '0' for x in linha]\n",
    "        print(f\"[{', '.join(strLinha)}]\")\n",
    "            \n",
    "def decomposicaoCholesky(n,a,b,c,d,e,f,g,h,i):\n",
    "    matrizA = [[a,b,c],[d,e,f],[g,h,i]]\n",
    "\n",
    "    for linha in matrizA:\n",
    "        if len(linha) != len(matrizA):\n",
    "            print(\"A matriz deve ser quadrada.\")\n",
    "            return None\n",
    "\n",
    "    matrizL = np.zeros((n,n))\n",
    "\n",
    "    for i in range(len(matrizA)):\n",
    "        for j in range(i+1):\n",
    "            if i == j:\n",
    "                valorElementoDiagonal = matrizA[i][i] - sum(matrizL[i][k] ** 2 for k in range(j))\n",
    "                if valorElementoDiagonal <= 0:\n",
    "                    print(\"A matriz não é positiva definida.\")\n",
    "                    return None\n",
    "                matrizL[i][j] = round(math.sqrt(valorElementoDiagonal), 5)\n",
    "            else:\n",
    "                \n",
    "                valorElementoForaDiagonal = (matrizA[i][j] - (sum(matrizL[i][k] * matrizL[j][k] for k in range(j)))) / matrizL[j][j]\n",
    "                matrizL[i][j] = round(valorElementoForaDiagonal, 5)\n",
    "\n",
    "\n",
    "    imprimirMatriz(matrizL) "
   ]
  },
  {
   "cell_type": "code",
   "execution_count": 13,
   "id": "a656cf57-8360-43a0-b905-951a42e062fe",
   "metadata": {},
   "outputs": [
    {
     "name": "stdout",
     "output_type": "stream",
     "text": [
      "Matriz L:\n",
      "[1.73205, 0, 0]\n",
      "[-0.57735, 1.63299, 0]\n",
      "[0.57735, 0.8165, 1.0]\n"
     ]
    }
   ],
   "source": [
    "decomposicaoCholesky(3, 3, -1, 1, -1, 3, 1, 1, 1, 2)"
   ]
  },
  {
   "cell_type": "code",
   "execution_count": 14,
   "id": "52edbfc5-6d5d-4370-87fd-1984adb5de7c",
   "metadata": {},
   "outputs": [],
   "source": [
    "# Fatoração de Lu\n",
    "def imprimirMatrizes(matrizL, matrizU):\n",
    "    print(\"Matriz L:\")\n",
    "    for linha in matrizL:\n",
    "        print(\" \".join(f\"{x:.1f}\" for x in linha))\n",
    "    print()\n",
    "    \n",
    "    print(\"Matriz U:\")\n",
    "    for linha in matrizU:\n",
    "        print(\" \".join(f\"{x:.1f}\" for x in linha))\n",
    "\n",
    "def fatoracaoLu(n,a,b,c,d,e,f,g,h,i):\n",
    "\n",
    "    matrizA = [[a,b,c],[d,e,f],[g,h,i]]\n",
    "    \n",
    "    for linha in matrizA:\n",
    "        if len(linha) != len(matrizA):\n",
    "            print(\"A matriz deve ser quadrada.\")\n",
    "            return None\n",
    "\n",
    "    matrizL = np.zeros((n,n))\n",
    "    matrizU = np.zeros((n,n))\n",
    "\n",
    "    for i in range(len(matrizA)):\n",
    "        for j in range(i, len(matrizA)):\n",
    "            matrizU[i][j] = matrizA[i][j] - sum(matrizL[i][k] * matrizU[k][j] for k in range(i))\n",
    "\n",
    "        if matrizU[i][i] == 0:\n",
    "            print(\"A matriz é singular e não pode ser fatorada.\")\n",
    "            return None\n",
    "\n",
    "        for j in range(i + 1, len(matrizA)):\n",
    "            matrizL[j][i] = (matrizA[j][i] - sum(matrizL[j][k] * matrizU[k][i] for k in range(i))) / matrizU[i][i]\n",
    "\n",
    "        matrizL[i][i] = 1\n",
    "\n",
    "    imprimirMatrizes(matrizL, matrizU)\n",
    "        "
   ]
  },
  {
   "cell_type": "code",
   "execution_count": 15,
   "id": "44cce4b7-a0e2-4359-9b07-999c2ed40a73",
   "metadata": {},
   "outputs": [
    {
     "name": "stdout",
     "output_type": "stream",
     "text": [
      "A matriz é singular e não pode ser fatorada.\n",
      "Matriz L:\n",
      "1.0 0.0 0.0\n",
      "4.0 1.0 0.0\n",
      "1.0 -0.2 1.0\n",
      "\n",
      "Matriz U:\n",
      "1.0 2.0 3.0\n",
      "0.0 -10.0 -6.0\n",
      "0.0 0.0 0.8\n"
     ]
    }
   ],
   "source": [
    "fatoracaoLu(3,1,2,3,2,4,6,7,8,9)\n",
    "fatoracaoLu(3,1,2,3,4,-2,6,1,4,5)"
   ]
  },
  {
   "cell_type": "code",
   "execution_count": 16,
   "id": "43ea6a04-ae82-4950-b817-1e753c03e18c",
   "metadata": {},
   "outputs": [],
   "source": [
    "# Aprendizagem de Máquina\n",
    "def imprimirMatriz(matriz):\n",
    "    print(matriz.flatten())\n",
    "\n",
    "def multiplicacaoMatrizes(matrizA, matrizB):\n",
    "    if len(matrizA[0]) != len(matrizB):\n",
    "        print(\"A multiplicação não pode ser realizada. O número de colunas de 'matrizA' deve ser igual ao número de linhas de 'matrizB'.\")\n",
    "        return None\n",
    "\n",
    "    matrizResultado = np.dot(matrizA, matrizB)\n",
    "\n",
    "    imprimirMatriz(matrizResultado)\n",
    "\n",
    "def resolverSistemaLinear(matriz, matrizTermosIndependentes):\n",
    "    matriz = np.array(matriz, dtype=float)\n",
    "    matrizTermosIndependentes = np.array(matrizTermosIndependentes, dtype=float)\n",
    "\n",
    "    if np.linalg.det(matriz) == 0:\n",
    "        print(\"A matriz não é invertível!\")\n",
    "        return None\n",
    "\n",
    "    inversa = np.linalg.inv(matriz)\n",
    "\n",
    "    multiplicacaoMatrizes(inversa, matrizTermosIndependentes)"
   ]
  },
  {
   "cell_type": "code",
   "execution_count": 17,
   "id": "80d212c2-29c0-49e7-b3c4-17eed0a78ec0",
   "metadata": {},
   "outputs": [
    {
     "name": "stdout",
     "output_type": "stream",
     "text": [
      "[-1.  1.  2.]\n"
     ]
    }
   ],
   "source": [
    "matriz = [\n",
    "    [1, -2, 1],\n",
    "    [2, -3, 1],\n",
    "    [1, 4, 2]\n",
    "]\n",
    "\n",
    "matrizTermosIndependentes = [\n",
    "    [-1],\n",
    "    [-3],\n",
    "    [7]\n",
    "]\n",
    "\n",
    "resolverSistemaLinear(matriz, matrizTermosIndependentes)"
   ]
  },
  {
   "cell_type": "code",
   "execution_count": 18,
   "id": "87ba4b16-e728-4a2e-89bd-4b8dca2f7d16",
   "metadata": {},
   "outputs": [],
   "source": [
    "# Convergência dos métodos MFP e MIL\n",
    "def func1(x):\n",
    "    return x**3 - 9*x + 5\n",
    "def func2(x):\n",
    "    return math.exp(x) - 4*x\n",
    "def func3(x):\n",
    "    return math.cos(x) - x\n",
    "def func4(x):\n",
    "    return (x**3 + 5)/9\n",
    "def func5(x):\n",
    "    return math.exp(x) / 4\n",
    "def func6(x):\n",
    "    return math.cos(x)\n",
    "\n",
    "def pegarFuncao(expressao):\n",
    "    switch = {\n",
    "        \"x^3-9*x+5\": func1,\n",
    "        \"e^x-4*x\": func2,\n",
    "        \"cos(x)-x\": func3,\n",
    "        \"(x^3+5)/9\": func4,\n",
    "        \"e^x/4\": func5,\n",
    "        \"cos(x)\": func6\n",
    "    }\n",
    "    return switch.get(expressao.replace(\" \", \"\"))\n",
    "\n",
    "def derivada(func, x):\n",
    "    return (func(x + 0.00001) - func(x)) / 0.00001\n",
    "\n",
    "def falsaPosicao(func, a, b):\n",
    "    if func(a) * func(b) >= 0:\n",
    "        print(\"f(a) e f(b) devem ter sinais opostos!\")\n",
    "        return None\n",
    "\n",
    "    index = 0\n",
    "    while True:\n",
    "        c = (a * func(b) - b * func(a))/(func(b) - func(a))\n",
    "        index+=1\n",
    "        if abs(func(c)) < 0.00001:\n",
    "            return round(c, 4), index\n",
    "        if func(a) * func(c) < 0:\n",
    "            b = c\n",
    "        else:\n",
    "            a = c\n",
    "\n",
    "def iterativoLinear(func, x):\n",
    "    index = 0\n",
    "    while True:\n",
    "        x1 = func(x)\n",
    "        resultadoDerivada = derivada(func, x)\n",
    "        \n",
    "        if abs(resultadoDerivada) >= 1:\n",
    "            return f\"A função não obedece o critério g'(x) < 1. g'(x) = {resultadoDerivada:.4f} em x = {x}\", index\n",
    "\n",
    "        index+=1\n",
    "        if round(abs(x1 - x), 5) <= 0.00001: \n",
    "            return round(x1, 4), index\n",
    "        x = x1\n",
    "\n",
    "def metodoMaisRapido(raizFalsaPosicao, indexFalsaPosicao, raizIterativoLinear, indexIterativoLinear):\n",
    "    if isinstance(raizIterativoLinear, str):\n",
    "        print(f'{raizIterativoLinear}. O método da Falsa Posição teve como resultado: {raizFalsaPosicao}, com {indexFalsaPosicao} iterações.')\n",
    "    elif indexFalsaPosicao <= indexIterativoLinear:\n",
    "        print(f'Método da Falsa Posição convergiu mais rápido. Raiz: {raizFalsaPosicao}, com {indexFalsaPosicao} iterações. O método Iterativo Linear teve como resultado: {raizIterativoLinear}, com {indexIterativoLinear} iterações.')\n",
    "    else:\n",
    "        print(f'Método Iterativo Linear convergiu mais rápido. Raiz: {raizIterativoLinear}, com {indexIterativoLinear} iterações. O método da Falsa Posição teve como resultado: {raizFalsaPosicao}, com {indexFalsaPosicao} iterações.')"
   ]
  },
  {
   "cell_type": "code",
   "execution_count": 19,
   "id": "e3e76fa0-75e3-45db-90b4-298232d7f41a",
   "metadata": {},
   "outputs": [
    {
     "name": "stdout",
     "output_type": "stream",
     "text": [
      "Método da Falsa Posição convergiu mais rápido. Raiz: 0.7391, com 6 iterações. O método Iterativo Linear teve como resultado: 0.7391, com 29 iterações.\n"
     ]
    }
   ],
   "source": [
    "raizFalsaPosicao, indexFalsaPosicao = falsaPosicao(func3, 0, 1.5768)\n",
    "raizIterativoLinear, indexIterativoLinear = iterativoLinear(func6, 0)\n",
    "\n",
    "metodoMaisRapido(raizFalsaPosicao,indexFalsaPosicao,raizIterativoLinear, indexIterativoLinear)"
   ]
  },
  {
   "cell_type": "code",
   "execution_count": 28,
   "id": "74c45199-b0a5-453c-b362-cde20aaef67b",
   "metadata": {},
   "outputs": [],
   "source": [
    "# Ruan perdido no deserto\n",
    "def func(a, b, c, x):\n",
    "    return a * (x**3) + b * x + c\n",
    "\n",
    "def derivada(a, b, x):\n",
    "    return 3 * a * (x**2) + b\n",
    "\n",
    "def falsaPosicao(a,b,c,x1,x2):\n",
    "    \n",
    "    if func(a,b,c,x1) * func(a,b,c,x2) >= 0:\n",
    "        print(\"f(x1) e f(x2) devem ter sinais opostos!\")\n",
    "        return 0\n",
    "\n",
    "    index = 0\n",
    "    while index<3:\n",
    "        x = (x1 * func(a,b,c,x2) - x2 * func(a,b,c,x1))/(func(a,b,c,x2) - func(a,b,c,x1))\n",
    "        index+=1\n",
    "        if abs(func(a,b,c,x)) < 0.00001:\n",
    "            return round(x, 4), index\n",
    "        if func(a,b,c,x1) * func(a,b,c,x) < 0:\n",
    "            x2 = x\n",
    "        else:\n",
    "            x1 = x\n",
    "    return round(x, 4), index\n",
    "\n",
    "def metodoNewtwo(a,b,c,x):\n",
    "    index=0\n",
    "    while True:\n",
    "        x1 = x - (func(a,b,c,x)/derivada(a,b,x))\n",
    "        index += 1\n",
    "\n",
    "        if round(abs(x1 - x), 4) <= 0.01:\n",
    "            return round(x1, 4), index\n",
    "        x = x1\n",
    "\n",
    "def encontrarSaida(a,b,c,x1,x2):\n",
    "    resultadoFalsaPosicao, indexFalsaPosicao = falsaPosicao(a,b,c,x1,x2)\n",
    "\n",
    "    if indexFalsaPosicao == 3:\n",
    "        resultadoMetodoNewton, indexFalsaPosicaoMetodoNewton = metodoNewtwo(a,b,c,resultadoFalsaPosicao)\n",
    "    \n",
    "    print(f'Encontramos pelo método da Falsa Posição, utilizando {indexFalsaPosicao} iterações: {resultadoFalsaPosicao}. Usando Newton posteriormente, encontramos o valor: {resultadoMetodoNewton}.')"
   ]
  },
  {
   "cell_type": "code",
   "execution_count": 29,
   "id": "196d0ce5-c4cc-40b0-9237-c34e3ed8dec1",
   "metadata": {},
   "outputs": [
    {
     "name": "stdout",
     "output_type": "stream",
     "text": [
      "Encontramos pelo método da Falsa Posição, utilizando 3 iterações: 2.0896. Usando Newton posteriormente, encontramos o valor: 2.0946.\n"
     ]
    }
   ],
   "source": [
    "encontrarSaida(1,-2,-5,2,3)"
   ]
  }
 ],
 "metadata": {
  "kernelspec": {
   "display_name": "Python 3 (ipykernel)",
   "language": "python",
   "name": "python3"
  },
  "language_info": {
   "codemirror_mode": {
    "name": "ipython",
    "version": 3
   },
   "file_extension": ".py",
   "mimetype": "text/x-python",
   "name": "python",
   "nbconvert_exporter": "python",
   "pygments_lexer": "ipython3",
   "version": "3.12.4"
  }
 },
 "nbformat": 4,
 "nbformat_minor": 5
}
